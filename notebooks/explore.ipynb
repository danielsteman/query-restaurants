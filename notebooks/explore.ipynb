{
 "cells": [
  {
   "cell_type": "code",
   "execution_count": null,
   "metadata": {},
   "outputs": [],
   "source": [
    "import json\n",
    "\n",
    "raw = open(\"../data/dataset.json\").read()\n",
    "data = json.loads(raw)"
   ]
  },
  {
   "cell_type": "code",
   "execution_count": null,
   "metadata": {},
   "outputs": [],
   "source": [
    "f\"Data contains {len(data)} pages\""
   ]
  },
  {
   "cell_type": "code",
   "execution_count": null,
   "metadata": {},
   "outputs": [],
   "source": [
    "results = data[0][\"results\"]\n",
    "f\"Each page contains {len(results)} places\""
   ]
  },
  {
   "cell_type": "code",
   "execution_count": null,
   "metadata": {},
   "outputs": [],
   "source": [
    "columns = [\n",
    "    \"geometry\",\n",
    "    \"name\",\n",
    "    \"place_id\",\n",
    "    \"price_level\",\n",
    "    \"rating\",\n",
    "    \"user_ratings_total\",\n",
    "    \"types\",\n",
    "]\n",
    "df_data = {}\n",
    "for c in columns:\n",
    "    values = results[0][c]\n",
    "    if isinstance(values, dict):\n",
    "        values = str(values)\n",
    "    df_data[c] = values\n",
    "df_data"
   ]
  },
  {
   "cell_type": "code",
   "execution_count": null,
   "metadata": {},
   "outputs": [],
   "source": [
    "def payload_to_dict(results):\n",
    "    columns = [\n",
    "        \"geometry\",\n",
    "        \"name\",\n",
    "        \"place_id\",\n",
    "        \"price_level\",\n",
    "        \"rating\",\n",
    "        \"user_ratings_total\",\n",
    "        \"types\",\n",
    "    ]\n",
    "    df_data = {}\n",
    "    for result in results:\n",
    "        print('res')\n",
    "        for c in columns:\n",
    "            values = result[c]\n",
    "            if isinstance(values, dict):\n",
    "                values = str(values)\n",
    "            df_data[c] = values\n",
    "    return df_data"
   ]
  },
  {
   "cell_type": "code",
   "execution_count": null,
   "metadata": {},
   "outputs": [],
   "source": [
    "import pandas\n",
    "\n",
    "pandas.DataFrame(payload_to_dict(results))"
   ]
  },
  {
   "cell_type": "code",
   "execution_count": null,
   "metadata": {},
   "outputs": [],
   "source": [
    "len(results)"
   ]
  },
  {
   "cell_type": "markdown",
   "metadata": {},
   "source": []
  }
 ],
 "metadata": {
  "kernelspec": {
   "display_name": "Python 3.10.2 64-bit",
   "language": "python",
   "name": "python3"
  },
  "language_info": {
   "codemirror_mode": {
    "name": "ipython",
    "version": 3
   },
   "file_extension": ".py",
   "mimetype": "text/x-python",
   "name": "python",
   "nbconvert_exporter": "python",
   "pygments_lexer": "ipython3",
   "version": "3.10.2"
  },
  "vscode": {
   "interpreter": {
    "hash": "7e1998ff7f8aa20ada591c520b972326324e5ea05489af9e422744c7c09f6dad"
   }
  }
 },
 "nbformat": 4,
 "nbformat_minor": 2
}
